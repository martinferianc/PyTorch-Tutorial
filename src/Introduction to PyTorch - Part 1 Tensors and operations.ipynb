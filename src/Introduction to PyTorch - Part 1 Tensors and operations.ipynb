{
 "cells": [
  {
   "cell_type": "code",
   "execution_count": 1,
   "metadata": {},
   "outputs": [
    {
     "name": "stdout",
     "output_type": "stream",
     "text": [
      "False\n",
      "torch.float32\n"
     ]
    }
   ],
   "source": [
    "import torch\n",
    "import torchvision\n",
    "import numpy as np\n",
    "# Check for CUDA capabilities\n",
    "print(torch.cuda.is_available())\n",
    "# Check what is the default type\n",
    "print(torch.get_default_dtype())"
   ]
  },
  {
   "cell_type": "code",
   "execution_count": 2,
   "metadata": {},
   "outputs": [],
   "source": [
    "# Create a tensor\n",
    "t = torch.Tensor([1,2,3])\n",
    "if torch.cuda.is_available():\n",
    "    t = t.cuda()"
   ]
  },
  {
   "cell_type": "code",
   "execution_count": 3,
   "metadata": {},
   "outputs": [
    {
     "name": "stdout",
     "output_type": "stream",
     "text": [
      "tensor([[1., 2., 3.],\n",
      "        [4., 5., 6.],\n",
      "        [7., 8., 9.]])\n",
      "torch.Size([3, 3]) torch.Size([3, 3])\n"
     ]
    }
   ],
   "source": [
    "dd = [\n",
    "[1,2,3],\n",
    "[4,5,6],\n",
    "[7,8,9]\n",
    "]\n",
    "# Create a tensor from a default Python object e.g.: list\n",
    "d = torch.Tensor(dd)\n",
    "print(d)\n",
    "# Access the shape\n",
    "print(d.shape, d.size())"
   ]
  },
  {
   "cell_type": "code",
   "execution_count": 4,
   "metadata": {},
   "outputs": [
    {
     "name": "stdout",
     "output_type": "stream",
     "text": [
      "torch.float32\n",
      "cpu\n",
      "torch.strided\n"
     ]
    }
   ],
   "source": [
    "# Access data type, device and layout\n",
    "print(d.dtype)\n",
    "print(d.device)\n",
    "print(d.layout)"
   ]
  },
  {
   "cell_type": "code",
   "execution_count": 5,
   "metadata": {},
   "outputs": [
    {
     "name": "stdout",
     "output_type": "stream",
     "text": [
      "tensor([1, 2, 3])\n"
     ]
    }
   ],
   "source": [
    "# Convert the data originally stored in numpy arrays\n",
    "data = np.array([1,2,3])\n",
    "data = torch.tensor(data)\n",
    "print(data)"
   ]
  },
  {
   "cell_type": "code",
   "execution_count": 6,
   "metadata": {},
   "outputs": [
    {
     "name": "stdout",
     "output_type": "stream",
     "text": [
      "tensor([[1., 0.],\n",
      "        [0., 1.]])\n",
      "tensor([[0., 0.],\n",
      "        [0., 0.]])\n",
      "tensor([[1., 1.],\n",
      "        [1., 1.]])\n"
     ]
    }
   ],
   "source": [
    "# Get identity matrix, zero matrix and matrix of ones\n",
    "print(torch.eye(2))\n",
    "print(torch.zeros([2,2]))\n",
    "print(torch.ones([2,2]))"
   ]
  },
  {
   "cell_type": "code",
   "execution_count": 7,
   "metadata": {},
   "outputs": [
    {
     "name": "stdout",
     "output_type": "stream",
     "text": [
      "tensor([[[[0.7824, 0.0762],\n",
      "          [0.6166, 0.5723]],\n",
      "\n",
      "         [[0.0119, 0.2432],\n",
      "          [0.5954, 0.5478]],\n",
      "\n",
      "         [[0.8505, 0.1895],\n",
      "          [0.3347, 0.8283]]]])\n"
     ]
    }
   ],
   "source": [
    "# Get a tensor of random values uniformly distributed\n",
    "print(torch.rand([1,3,2,2]))"
   ]
  },
  {
   "cell_type": "code",
   "execution_count": 8,
   "metadata": {},
   "outputs": [
    {
     "name": "stdout",
     "output_type": "stream",
     "text": [
      "tensor([1., 2., 3.])\n",
      "tensor([1, 2, 3])\n",
      "tensor([1, 2, 3])\n",
      "tensor([1, 2, 3])\n",
      "[1 2 3]\n"
     ]
    }
   ],
   "source": [
    "data = np.array([1,2,3])\n",
    "type(data)\n",
    "\n",
    "o1 = torch.Tensor(data)      # Cannot specify dtype\n",
    "o2 = torch.tensor(data)\n",
    "o3 = torch.as_tensor(data)   # Do not copy, but use the same memory reference <- The best option\n",
    "o4 = torch.from_numpy(data)  # Do not copy, but use the same memory reference\n",
    "\n",
    "# Use\n",
    "# torch.tensor()\n",
    "# torch.as_tensor()\n",
    "\n",
    "print(o1)\n",
    "print(o2)\n",
    "print(o3)\n",
    "print(o4)\n",
    "# Convert a tensor to numpy array\n",
    "print(o4.numpy())"
   ]
  },
  {
   "cell_type": "code",
   "execution_count": 9,
   "metadata": {},
   "outputs": [
    {
     "name": "stdout",
     "output_type": "stream",
     "text": [
      "torch.Size([3, 4]) torch.Size([3, 4])\n",
      "Rank 2\n",
      "Number of elements 12\n",
      "Number of elements 12\n",
      "tensor([[1., 1., 1., 1., 2., 2., 2., 2., 3., 3., 3., 3.]])\n",
      "torch.Size([1, 12])\n",
      "tensor([1., 1., 1., 1., 2., 2., 2., 2., 3., 3., 3., 3.])\n",
      "torch.Size([12])\n",
      "tensor([[1., 1., 1., 1., 2., 2., 2., 2., 3., 3., 3., 3.]])\n",
      "torch.Size([1, 12])\n",
      "tensor([1., 1., 1., 1., 2., 2., 2., 2., 3., 3., 3., 3.])\n"
     ]
    }
   ],
   "source": [
    "t = torch.tensor([\n",
    "    [1,1,1,1],\n",
    "    [2,2,2,2],\n",
    "    [3,3,3,3]\n",
    "], dtype=torch.float32)\n",
    "print(t.size(),t.shape)\n",
    "# Conpute the rank of the tensor\n",
    "print(\"Rank {}\".format(len(t.size())))\n",
    "# Compute the number of elements or access it from a default function\n",
    "print(\"Number of elements {}\".format(torch.tensor(t.size()).prod()))\n",
    "print(\"Number of elements {}\".format(t.numel()))\n",
    "\n",
    "# Perform reshape on a tensor\n",
    "print(t.reshape([1,12]))\n",
    "print(t.reshape([1,12]).shape)\n",
    "\n",
    "# Squeeze out a 1 dimension\n",
    "print(t.reshape([1,12]).squeeze())\n",
    "print(t.reshape([1,12]).squeeze().shape)\n",
    "\n",
    "# Unsqueeze a 1 dimension \n",
    "print(t.reshape([1,12]).squeeze().unsqueeze(dim=0))\n",
    "print(t.reshape([1,12]).squeeze().unsqueeze(dim=0).shape)\n",
    "\n",
    "# Flatten a tensor and specify from where to start\n",
    "print(t.flatten(start_dim = 0))"
   ]
  },
  {
   "cell_type": "code",
   "execution_count": 10,
   "metadata": {},
   "outputs": [
    {
     "name": "stdout",
     "output_type": "stream",
     "text": [
      "tensor([[1, 2],\n",
      "        [3, 4],\n",
      "        [5, 6],\n",
      "        [7, 8]])\n",
      "tensor([[1, 2, 5, 6],\n",
      "        [3, 4, 7, 8]])\n"
     ]
    }
   ],
   "source": [
    "# Concatenate two or multiple tensors with respect to a dimension \n",
    "t1 = torch.tensor([\n",
    "    [1,2],\n",
    "    [3,4]\n",
    "])\n",
    "t2 = torch.tensor([\n",
    "    [5,6],\n",
    "    [7,8]\n",
    "])\n",
    "print(torch.cat((t1,t2),dim=0))\n",
    "print(torch.cat((t1,t2),dim=1))"
   ]
  },
  {
   "cell_type": "code",
   "execution_count": 11,
   "metadata": {},
   "outputs": [],
   "source": [
    "# Create three different matrices corresponding to three different inputs in a batch and stack them\n",
    "t1 = torch.tensor([\n",
    "    [1,1,1,1],\n",
    "    [1,1,1,1],\n",
    "    [1,1,1,1],\n",
    "    [1,1,1,1]\n",
    "])\n",
    "\n",
    "t2 = torch.tensor([\n",
    "    [2,2,2,2],\n",
    "    [2,2,2,2],\n",
    "    [2,2,2,2],\n",
    "    [2,2,2,2]\n",
    "])\n",
    "\n",
    "t3 = torch.tensor([\n",
    "    [3,3,3,3],\n",
    "    [3,3,3,3],\n",
    "    [3,3,3,3],\n",
    "    [3,3,3,3]\n",
    "])\n",
    "t= torch.stack([t1,t2,t3])"
   ]
  },
  {
   "cell_type": "code",
   "execution_count": 12,
   "metadata": {},
   "outputs": [],
   "source": [
    "# Add channel dimensions\n",
    "t = t.reshape([3,1,4,4])"
   ]
  },
  {
   "cell_type": "code",
   "execution_count": 13,
   "metadata": {},
   "outputs": [],
   "source": [
    "# Flatten inputs in a batch\n",
    "t= t.flatten(start_dim = 1)"
   ]
  },
  {
   "cell_type": "code",
   "execution_count": 14,
   "metadata": {},
   "outputs": [
    {
     "name": "stdout",
     "output_type": "stream",
     "text": [
      "tensor([[[1., 1.],\n",
      "         [1., 1.]],\n",
      "\n",
      "        [[2., 2.],\n",
      "         [2., 2.]],\n",
      "\n",
      "        [[3., 3.],\n",
      "         [3., 3.]]]) torch.Size([3, 2, 2])\n"
     ]
    }
   ],
   "source": [
    "# concatenate multiple channels\n",
    "r = torch.ones([1,2,2])\n",
    "g = torch.ones([1,2,2]) + 1\n",
    "b = torch.ones([1,2,2]) + 2\n",
    "t = torch.cat([r,g,b], dim=0)\n",
    "print(t,t.shape)"
   ]
  },
  {
   "cell_type": "code",
   "execution_count": 15,
   "metadata": {},
   "outputs": [
    {
     "name": "stdout",
     "output_type": "stream",
     "text": [
      "tensor([1., 1., 1., 1., 2., 2., 2., 2., 3., 3., 3., 3.])\n"
     ]
    }
   ],
   "source": [
    "# Completely flatten them\n",
    "print(t.flatten())"
   ]
  },
  {
   "cell_type": "code",
   "execution_count": 16,
   "metadata": {},
   "outputs": [
    {
     "name": "stdout",
     "output_type": "stream",
     "text": [
      "tensor([[10., 10.],\n",
      "        [10., 10.]]) tensor([[True, True],\n",
      "        [True, True]])\n"
     ]
    }
   ],
   "source": [
    "# Elementwise operations\n",
    "t1 = torch.tensor([\n",
    "    [1,2],\n",
    "    [3,4]\n",
    "], dtype=torch.float32)\n",
    "t2 = torch.tensor([\n",
    "    [9,8],\n",
    "    [7,6]\n",
    "], dtype=torch.float32)\n",
    "print(t1+t2, t1<t2)"
   ]
  },
  {
   "cell_type": "code",
   "execution_count": 20,
   "metadata": {},
   "outputs": [
    {
     "name": "stdout",
     "output_type": "stream",
     "text": [
      "tensor(8.) tensor(0.8889) tensor(1.1667) tensor(0.) tensor([0.3333, 1.3333, 1.0000]) tensor([0.6667, 1.3333, 0.6667]) tensor([1, 2, 1])\n",
      "[0.3333333432674408, 1.3333333730697632, 1.0]\n",
      "0.8888888955116272\n",
      "[0.33333334 1.3333334  1.        ]\n"
     ]
    }
   ],
   "source": [
    "# Reduction operations\n",
    "t = torch.tensor([\n",
    "    [0,1,0],\n",
    "    [2,0,2],\n",
    "    [0,3,0]\n",
    "], dtype=torch.float32)\n",
    "# Dim = 1 along a row, dim = 0 along a column\n",
    "print(t.sum(), t.mean(), t.std(), t.prod(), t.mean(dim=1),t.mean(dim=0), t.argmax(dim=1))\n",
    "print(t.mean(dim=1).tolist())\n",
    "print(t.mean().item())\n",
    "print(t.mean(dim=1).numpy())"
   ]
  },
  {
   "cell_type": "code",
   "execution_count": null,
   "metadata": {},
   "outputs": [],
   "source": []
  }
 ],
 "metadata": {
  "kernelspec": {
   "display_name": "Python 3",
   "language": "python",
   "name": "python3"
  },
  "language_info": {
   "codemirror_mode": {
    "name": "ipython",
    "version": 3
   },
   "file_extension": ".py",
   "mimetype": "text/x-python",
   "name": "python",
   "nbconvert_exporter": "python",
   "pygments_lexer": "ipython3",
   "version": "3.6.4"
  }
 },
 "nbformat": 4,
 "nbformat_minor": 2
}
