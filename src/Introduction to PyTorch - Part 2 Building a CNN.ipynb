{
 "cells": [
  {
   "cell_type": "code",
   "execution_count": 1,
   "metadata": {},
   "outputs": [],
   "source": [
    "import torch\n",
    "import torch.nn as nn\n",
    "import torch.optim as optim\n",
    "import torch.nn.functional as F\n",
    "\n",
    "import torchvision\n",
    "import torchvision.transforms as transforms\n",
    "\n",
    "import numpy as np\n",
    "import pandas as pd\n",
    "import matplotlib.pyplot as plt\n",
    "\n",
    "from sklearn.metrics import confusion_matrix\n",
    "#from plotcm import plot_confusion_matrix\n",
    "\n",
    "import pdb\n",
    "\n",
    "torch.set_printoptions(linewidth=120)"
   ]
  },
  {
   "cell_type": "markdown",
   "metadata": {},
   "source": [
    "### Loading data\n",
    "\n",
    "torch.utils.data.Dataset\tAn abstract class for representing a dataset.\n",
    "\n",
    "torch.utils.data.DataLoader\tWraps a dataset and provides access to the underlying data.\n",
    "\n",
    "An abstract class is a Python class that has methods we must implement, so we can create a custom dataset by creating a subclass that extends the functionality of the Dataset class.\n",
    "\n",
    "To create a custom dataset using PyTorch, we extend the Dataset class by creating a subclass that implements these required methods. Upon doing this, our new subclass can then be passed to the a PyTorch DataLoader object.\n",
    "\n",
    "We will be using the fashion-MNIST dataset that comes built-in with the torchvision package, so we won’t have to do this for our project. Just know that the Fashion-MNIST built-in dataset class is doing this behind the scenes.\n",
    "\n",
    "All subclasses of the Dataset class must override __len__, that provides the size of the dataset, and __getitem__, supporting integer indexing in range from 0 to len(self) exclusive.\n",
    "Specifically, there are two methods that are required to be implemented. The __len__ method which returns the length of the dataset, and the __getitem__ method that gets an element from the dataset at a specific index location within the dataset."
   ]
  },
  {
   "cell_type": "code",
   "execution_count": 2,
   "metadata": {},
   "outputs": [],
   "source": [
    "# Get the dataset\n",
    "train_set = torchvision.datasets.FashionMNIST(\n",
    "    root='../data'\n",
    "    ,train=True\n",
    "    ,download=True\n",
    "    ,transform=transforms.Compose([\n",
    "        transforms.ToTensor()\n",
    "#        transforms.Normalize(mean=0, std =1)\n",
    "    ])\n",
    ")\n",
    "train_loader = torch.utils.data.DataLoader(train_set\n",
    "    ,batch_size=64\n",
    "    ,shuffle=True\n",
    ")\n",
    "test_set = torchvision.datasets.FashionMNIST(\n",
    "    root='../data'\n",
    "    ,train=False\n",
    "    ,download=True\n",
    "    ,transform=transforms.Compose([\n",
    "        transforms.ToTensor()\n",
    "#        transforms.Normalize(mean=0, std =1)\n",
    "    ])\n",
    ")\n",
    "test_loader = torch.utils.data.DataLoader(test_set\n",
    "    ,batch_size=64\n",
    "    ,shuffle=True\n",
    ")"
   ]
  },
  {
   "cell_type": "code",
   "execution_count": 3,
   "metadata": {},
   "outputs": [
    {
     "name": "stdout",
     "output_type": "stream",
     "text": [
      "60000 10000\n"
     ]
    }
   ],
   "source": [
    "# Get the train and test set lengths\n",
    "print(len(train_set), len(test_set))"
   ]
  },
  {
   "cell_type": "code",
   "execution_count": 4,
   "metadata": {},
   "outputs": [
    {
     "name": "stdout",
     "output_type": "stream",
     "text": [
      "tensor([9, 0, 0,  ..., 3, 0, 5]) tensor([9, 2, 1,  ..., 8, 1, 5])\n",
      "tensor([6000, 6000, 6000, 6000, 6000, 6000, 6000, 6000, 6000, 6000]) tensor([1000, 1000, 1000, 1000, 1000, 1000, 1000, 1000, 1000, 1000])\n"
     ]
    }
   ],
   "source": [
    "# Print out the counts in the each lass and how to access the albels\n",
    "print(train_set.targets, test_set.targets)\n",
    "print(train_set.targets.bincount(), test_set.targets.bincount())"
   ]
  },
  {
   "cell_type": "code",
   "execution_count": 5,
   "metadata": {},
   "outputs": [
    {
     "data": {
      "text/plain": [
       "2"
      ]
     },
     "execution_count": 5,
     "metadata": {},
     "output_type": "execute_result"
    }
   ],
   "source": [
    "# Access a single sample, beware that it is necesary to use iter()\n",
    "sample = next(iter(train_set))\n",
    "len(sample)"
   ]
  },
  {
   "cell_type": "code",
   "execution_count": 6,
   "metadata": {},
   "outputs": [
    {
     "name": "stdout",
     "output_type": "stream",
     "text": [
      "torch.Size([1, 28, 28]) 9\n",
      "torch.Size([28, 28])\n"
     ]
    }
   ],
   "source": [
    "image, label = sample\n",
    "print(image.shape,label)\n",
    "image = image.squeeze()\n",
    "print(image.shape)"
   ]
  },
  {
   "cell_type": "code",
   "execution_count": 7,
   "metadata": {},
   "outputs": [
    {
     "data": {
      "text/plain": [
       "<matplotlib.image.AxesImage at 0x12a63db38>"
      ]
     },
     "execution_count": 7,
     "metadata": {},
     "output_type": "execute_result"
    },
    {
     "data": {
      "image/png": "[encoded data removed]",
      "text/plain": [
       "<Figure size 432x288 with 1 Axes>"
      ]
     },
     "metadata": {
      "needs_background": "light"
     },
     "output_type": "display_data"
    }
   ],
   "source": [
    "plt.imshow(image, cmap=\"gray\")"
   ]
  },
  {
   "cell_type": "code",
   "execution_count": 8,
   "metadata": {},
   "outputs": [
    {
     "name": "stdout",
     "output_type": "stream",
     "text": [
      "2\n"
     ]
    }
   ],
   "source": [
    "batch = next(iter(train_loader))\n",
    "print(len(batch))"
   ]
  },
  {
   "cell_type": "code",
   "execution_count": 9,
   "metadata": {},
   "outputs": [
    {
     "name": "stdout",
     "output_type": "stream",
     "text": [
      "torch.Size([64, 1, 28, 28]) torch.Size([64])\n"
     ]
    }
   ],
   "source": [
    "images, labels = batch\n",
    "print(images.shape,labels.shape)"
   ]
  },
  {
   "cell_type": "code",
   "execution_count": 10,
   "metadata": {},
   "outputs": [
    {
     "name": "stdout",
     "output_type": "stream",
     "text": [
      "labels: tensor([0, 3, 3, 9, 2, 5, 0, 1, 5, 2])\n"
     ]
    },
    {
     "data": {
      "image/png": "[encoded data removed]",
      "text/plain": [
       "<Figure size 1080x1080 with 1 Axes>"
      ]
     },
     "metadata": {
      "needs_background": "light"
     },
     "output_type": "display_data"
    }
   ],
   "source": [
    "# To plot the images we can use toruch in-built fuction to make a nice grid\n",
    "grid = torchvision.utils.make_grid(images[:10], nrow=10)\n",
    "\n",
    "plt.figure(figsize=(15,15))\n",
    "plt.imshow(np.transpose(grid, (1,2,0)))\n",
    "\n",
    "print('labels:', labels[:10])"
   ]
  },
  {
   "cell_type": "code",
   "execution_count": 11,
   "metadata": {},
   "outputs": [],
   "source": [
    "# Network\n",
    "class Network(nn.Module):\n",
    "    def __init__(self):\n",
    "        super().__init__()\n",
    "        self.conv1 = nn.Conv2d(in_channels=1, out_channels=6, kernel_size=5)\n",
    "        self.conv2 = nn.Conv2d(in_channels=6, out_channels=12, kernel_size=5)\n",
    "        \n",
    "        self.fc1 = nn.Linear(in_features=12 * 4 * 4, out_features=120)\n",
    "        self.fc2 = nn.Linear(in_features=120, out_features=60)\n",
    "        self.out = nn.Linear(in_features=60, out_features=10)\n",
    "        \n",
    "    def forward(self, t):\n",
    "        # implement the forward pass\n",
    "        return t"
   ]
  },
  {
   "cell_type": "code",
   "execution_count": 13,
   "metadata": {},
   "outputs": [
    {
     "name": "stdout",
     "output_type": "stream",
     "text": [
      "Network(\n",
      "  (conv1): Conv2d(1, 6, kernel_size=(5, 5), stride=(1, 1))\n",
      "  (conv2): Conv2d(6, 12, kernel_size=(5, 5), stride=(1, 1))\n",
      "  (fc1): Linear(in_features=192, out_features=120, bias=True)\n",
      "  (fc2): Linear(in_features=120, out_features=60, bias=True)\n",
      "  (out): Linear(in_features=60, out_features=10, bias=True)\n",
      ")\n"
     ]
    }
   ],
   "source": [
    "network = Network()\n",
    "print(network)"
   ]
  },
  {
   "cell_type": "code",
   "execution_count": 14,
   "metadata": {},
   "outputs": [
    {
     "name": "stdout",
     "output_type": "stream",
     "text": [
      "Conv2d(1, 6, kernel_size=(5, 5), stride=(1, 1))\n"
     ]
    }
   ],
   "source": [
    "# Access a single layer\n",
    "print(network.conv1)"
   ]
  },
  {
   "cell_type": "code",
   "execution_count": 17,
   "metadata": {},
   "outputs": [
    {
     "name": "stdout",
     "output_type": "stream",
     "text": [
      "Parameter containing:\n",
      "tensor([[[[-0.0903,  0.0627, -0.1234, -0.0697,  0.1607],\n",
      "          [ 0.0319, -0.1045, -0.1754,  0.0442, -0.0511],\n",
      "          [ 0.0939, -0.0047, -0.1228,  0.0706,  0.0080],\n",
      "          [ 0.0712, -0.1027, -0.0511, -0.1745,  0.1138],\n",
      "          [-0.0744, -0.0451,  0.0029,  0.1582, -0.1181]]],\n",
      "\n",
      "\n",
      "        [[[-0.0338,  0.1615,  0.0208,  0.1854, -0.1812],\n",
      "          [ 0.0979, -0.0031, -0.1831,  0.1777,  0.1070],\n",
      "          [-0.1801,  0.0080, -0.1313, -0.0287,  0.1926],\n",
      "          [-0.1447, -0.0587,  0.1172, -0.1552, -0.0853],\n",
      "          [ 0.1691,  0.1737,  0.1268, -0.1636, -0.1184]]],\n",
      "\n",
      "\n",
      "        [[[-0.0407, -0.0687,  0.1652, -0.0677, -0.1475],\n",
      "          [ 0.1238, -0.1952,  0.1919, -0.0887, -0.0208],\n",
      "          [ 0.0735, -0.0272,  0.0315,  0.1914, -0.1946],\n",
      "          [ 0.1111,  0.1103, -0.0123, -0.1506, -0.0065],\n",
      "          [-0.0573, -0.1759,  0.1591,  0.1692, -0.1633]]],\n",
      "\n",
      "\n",
      "        [[[-0.0768, -0.1088, -0.1301, -0.0415,  0.1600],\n",
      "          [-0.1549, -0.0680,  0.1911, -0.1184, -0.1586],\n",
      "          [-0.0109, -0.1630,  0.0933,  0.1810, -0.0332],\n",
      "          [ 0.1656, -0.1337, -0.1045,  0.0673,  0.1471],\n",
      "          [ 0.0627, -0.1367, -0.1312, -0.1203, -0.0143]]],\n",
      "\n",
      "\n",
      "        [[[-0.1380, -0.1683, -0.0868, -0.0145, -0.0222],\n",
      "          [-0.1041,  0.1354, -0.1373, -0.0196,  0.0783],\n",
      "          [ 0.1763, -0.0056,  0.1321, -0.1724,  0.1537],\n",
      "          [-0.1357,  0.0850,  0.0959, -0.1768, -0.0152],\n",
      "          [-0.0789, -0.0780,  0.1374, -0.1979,  0.0133]]],\n",
      "\n",
      "\n",
      "        [[[-0.0643, -0.1770, -0.1291,  0.0109,  0.1615],\n",
      "          [ 0.1478,  0.0714,  0.1298,  0.0815,  0.1625],\n",
      "          [-0.0961,  0.0479,  0.0008, -0.0438,  0.1241],\n",
      "          [ 0.0605, -0.1282, -0.0924, -0.1226, -0.1524],\n",
      "          [-0.1441,  0.1848, -0.1496,  0.1931,  0.1541]]]], requires_grad=True)\n",
      "torch.Size([6, 1, 5, 5])\n"
     ]
    }
   ],
   "source": [
    "print(network.conv1.weight)\n",
    "#One thing to notice about the weight tensor output is that it says parameter \n",
    "#containing at the top of the output. This is because this particular tensor is \n",
    "#a special tensor because its values or scalar components are learnable parameters of our network.\n",
    "print(network.conv1.weight.shape)\n",
    "# Number of output feature maps x number of input feature maps x kernel size x kernel size"
   ]
  },
  {
   "cell_type": "code",
   "execution_count": 18,
   "metadata": {},
   "outputs": [
    {
     "name": "stdout",
     "output_type": "stream",
     "text": [
      "torch.Size([6, 1, 5, 5])\n",
      "torch.Size([6])\n",
      "torch.Size([12, 6, 5, 5])\n",
      "torch.Size([12])\n",
      "torch.Size([120, 192])\n",
      "torch.Size([120])\n",
      "torch.Size([60, 120])\n",
      "torch.Size([60])\n",
      "torch.Size([10, 60])\n",
      "torch.Size([10])\n"
     ]
    }
   ],
   "source": [
    "# Access the parameters\n",
    "for param in network.parameters():\n",
    "    print(param.shape)"
   ]
  },
  {
   "cell_type": "markdown",
   "metadata": {},
   "source": [
    "#### Definition of a Linear class (an example) taken directly from the PyTorch class\n",
    "```python\n",
    "def __init__(self, in_features, out_features, bias=True):\n",
    "    super(Linear, self).__init__()\n",
    "    self.in_features = in_features\n",
    "    self.out_features = out_features\n",
    "    self.weight = Parameter(torch.Tensor(out_features, in_features))\n",
    "    if bias:\n",
    "        self.bias = Parameter(torch.Tensor(out_features))\n",
    "    else:\n",
    "        self.register_parameter('bias', None)\n",
    "    self.reset_parameters()\n",
    "```"
   ]
  },
  {
   "cell_type": "code",
   "execution_count": null,
   "metadata": {},
   "outputs": [],
   "source": []
  }
 ],
 "metadata": {
  "kernelspec": {
   "display_name": "Python 3",
   "language": "python",
   "name": "python3"
  },
  "language_info": {
   "codemirror_mode": {
    "name": "ipython",
    "version": 3
   },
   "file_extension": ".py",
   "mimetype": "text/x-python",
   "name": "python",
   "nbconvert_exporter": "python",
   "pygments_lexer": "ipython3",
   "version": "3.6.4"
  }
 },
 "nbformat": 4,
 "nbformat_minor": 2
}
