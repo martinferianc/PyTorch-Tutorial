{
 "cells": [
  {
   "cell_type": "code",
   "execution_count": 1,
   "metadata": {},
   "outputs": [
    {
     "name": "stderr",
     "output_type": "stream",
     "text": [
      "/Users/martinferianc/.pyenv/versions/3.6.4/lib/python3.6/site-packages/tensorboard/compat/tensorflow_stub/dtypes.py:541: FutureWarning: Passing (type, 1) or '1type' as a synonym of type is deprecated; in a future version of numpy, it will be understood as (type, (1,)) / '(1,)type'.\n",
      "  _np_qint8 = np.dtype([(\"qint8\", np.int8, 1)])\n",
      "/Users/martinferianc/.pyenv/versions/3.6.4/lib/python3.6/site-packages/tensorboard/compat/tensorflow_stub/dtypes.py:542: FutureWarning: Passing (type, 1) or '1type' as a synonym of type is deprecated; in a future version of numpy, it will be understood as (type, (1,)) / '(1,)type'.\n",
      "  _np_quint8 = np.dtype([(\"quint8\", np.uint8, 1)])\n",
      "/Users/martinferianc/.pyenv/versions/3.6.4/lib/python3.6/site-packages/tensorboard/compat/tensorflow_stub/dtypes.py:543: FutureWarning: Passing (type, 1) or '1type' as a synonym of type is deprecated; in a future version of numpy, it will be understood as (type, (1,)) / '(1,)type'.\n",
      "  _np_qint16 = np.dtype([(\"qint16\", np.int16, 1)])\n",
      "/Users/martinferianc/.pyenv/versions/3.6.4/lib/python3.6/site-packages/tensorboard/compat/tensorflow_stub/dtypes.py:544: FutureWarning: Passing (type, 1) or '1type' as a synonym of type is deprecated; in a future version of numpy, it will be understood as (type, (1,)) / '(1,)type'.\n",
      "  _np_quint16 = np.dtype([(\"quint16\", np.uint16, 1)])\n",
      "/Users/martinferianc/.pyenv/versions/3.6.4/lib/python3.6/site-packages/tensorboard/compat/tensorflow_stub/dtypes.py:545: FutureWarning: Passing (type, 1) or '1type' as a synonym of type is deprecated; in a future version of numpy, it will be understood as (type, (1,)) / '(1,)type'.\n",
      "  _np_qint32 = np.dtype([(\"qint32\", np.int32, 1)])\n",
      "/Users/martinferianc/.pyenv/versions/3.6.4/lib/python3.6/site-packages/tensorboard/compat/tensorflow_stub/dtypes.py:550: FutureWarning: Passing (type, 1) or '1type' as a synonym of type is deprecated; in a future version of numpy, it will be understood as (type, (1,)) / '(1,)type'.\n",
      "  np_resource = np.dtype([(\"resource\", np.ubyte, 1)])\n",
      "WARNING:root:This caffe2 python run does not have GPU support. Will run in CPU only mode.\n"
     ]
    }
   ],
   "source": [
    "import torch\n",
    "import torch.nn as nn\n",
    "import torch.optim as optim\n",
    "import torch.nn.functional as F\n",
    "from torch.utils.tensorboard import SummaryWriter\n",
    "\n",
    "\n",
    "import torchvision\n",
    "import torchvision.transforms as transforms\n",
    "\n",
    "import numpy as np\n",
    "import pandas as pd\n",
    "import matplotlib.pyplot as plt\n",
    "\n",
    "from sklearn.metrics import confusion_matrix\n",
    "from plotcm import plot_confusion_matrix\n",
    "\n",
    "import pdb\n",
    "\n",
    "torch.set_printoptions(linewidth=120)"
   ]
  },
  {
   "cell_type": "markdown",
   "metadata": {},
   "source": [
    "### Loading data\n",
    "\n",
    "torch.utils.data.Dataset\tAn abstract class for representing a dataset.\n",
    "\n",
    "torch.utils.data.DataLoader\tWraps a dataset and provides access to the underlying data.\n",
    "\n",
    "An abstract class is a Python class that has methods we must implement, so we can create a custom dataset by creating a subclass that extends the functionality of the Dataset class.\n",
    "\n",
    "To create a custom dataset using PyTorch, we extend the Dataset class by creating a subclass that implements these required methods. Upon doing this, our new subclass can then be passed to the a PyTorch DataLoader object.\n",
    "\n",
    "We will be using the fashion-MNIST dataset that comes built-in with the torchvision package, so we won’t have to do this for our project. Just know that the Fashion-MNIST built-in dataset class is doing this behind the scenes.\n",
    "\n",
    "All subclasses of the Dataset class must override __len__, that provides the size of the dataset, and __getitem__, supporting integer indexing in range from 0 to len(self) exclusive.\n",
    "Specifically, there are two methods that are required to be implemented. The __len__ method which returns the length of the dataset, and the __getitem__ method that gets an element from the dataset at a specific index location within the dataset."
   ]
  },
  {
   "cell_type": "code",
   "execution_count": 2,
   "metadata": {},
   "outputs": [],
   "source": [
    "# Get the dataset\n",
    "batch_size = 64\n",
    "train_set = torchvision.datasets.FashionMNIST(\n",
    "    root='../data'\n",
    "    ,train=True\n",
    "    ,download=True\n",
    "    ,transform=transforms.Compose([\n",
    "        transforms.ToTensor()\n",
    "#        transforms.Normalize(mean=0, std =1)\n",
    "    ])\n",
    ")\n",
    "train_loader = torch.utils.data.DataLoader(train_set\n",
    "    ,batch_size=batch_size\n",
    "    ,shuffle=False\n",
    ")\n",
    "test_set = torchvision.datasets.FashionMNIST(\n",
    "    root='../data'\n",
    "    ,train=False\n",
    "    ,download=True\n",
    "    ,transform=transforms.Compose([\n",
    "        transforms.ToTensor()\n",
    "#        transforms.Normalize(mean=0, std =1)\n",
    "    ])\n",
    ")\n",
    "test_loader = torch.utils.data.DataLoader(test_set\n",
    "    ,batch_size=batch_size\n",
    "    ,shuffle=False\n",
    ")"
   ]
  },
  {
   "cell_type": "code",
   "execution_count": 3,
   "metadata": {},
   "outputs": [
    {
     "name": "stdout",
     "output_type": "stream",
     "text": [
      "60000 10000\n"
     ]
    }
   ],
   "source": [
    "# Get the train and test set lengths\n",
    "print(len(train_set), len(test_set))"
   ]
  },
  {
   "cell_type": "code",
   "execution_count": 4,
   "metadata": {},
   "outputs": [
    {
     "name": "stdout",
     "output_type": "stream",
     "text": [
      "tensor([9, 0, 0,  ..., 3, 0, 5]) tensor([9, 2, 1,  ..., 8, 1, 5])\n",
      "tensor([6000, 6000, 6000, 6000, 6000, 6000, 6000, 6000, 6000, 6000]) tensor([1000, 1000, 1000, 1000, 1000, 1000, 1000, 1000, 1000, 1000])\n"
     ]
    }
   ],
   "source": [
    "# Print out the counts in the each lass and how to access the albels\n",
    "print(train_set.targets, test_set.targets)\n",
    "print(train_set.targets.bincount(), test_set.targets.bincount())"
   ]
  },
  {
   "cell_type": "code",
   "execution_count": 5,
   "metadata": {},
   "outputs": [
    {
     "data": {
      "text/plain": [
       "2"
      ]
     },
     "execution_count": 5,
     "metadata": {},
     "output_type": "execute_result"
    }
   ],
   "source": [
    "# Access a single sample, beware that it is necesary to use iter()\n",
    "sample = next(iter(train_set))\n",
    "len(sample)"
   ]
  },
  {
   "cell_type": "code",
   "execution_count": 6,
   "metadata": {},
   "outputs": [
    {
     "name": "stdout",
     "output_type": "stream",
     "text": [
      "torch.Size([1, 28, 28]) 9\n",
      "torch.Size([28, 28])\n"
     ]
    }
   ],
   "source": [
    "image, label = sample\n",
    "print(image.shape,label)\n",
    "image = image.squeeze()\n",
    "print(image.shape)"
   ]
  },
  {
   "cell_type": "code",
   "execution_count": 7,
   "metadata": {},
   "outputs": [
    {
     "data": {
      "text/plain": [
       "<matplotlib.image.AxesImage at 0x12fd9c198>"
      ]
     },
     "execution_count": 7,
     "metadata": {},
     "output_type": "execute_result"
    },
    {
     "data": {
      "image/png": "[encoded data removed]",
      "text/plain": [
       "<Figure size 432x288 with 1 Axes>"
      ]
     },
     "metadata": {
      "needs_background": "light"
     },
     "output_type": "display_data"
    }
   ],
   "source": [
    "plt.imshow(image, cmap=\"gray\")"
   ]
  },
  {
   "cell_type": "code",
   "execution_count": 8,
   "metadata": {},
   "outputs": [
    {
     "name": "stdout",
     "output_type": "stream",
     "text": [
      "2\n"
     ]
    }
   ],
   "source": [
    "batch = next(iter(train_loader))\n",
    "print(len(batch))"
   ]
  },
  {
   "cell_type": "code",
   "execution_count": 9,
   "metadata": {},
   "outputs": [
    {
     "name": "stdout",
     "output_type": "stream",
     "text": [
      "torch.Size([64, 1, 28, 28]) torch.Size([64])\n"
     ]
    }
   ],
   "source": [
    "images, labels = batch\n",
    "print(images.shape,labels.shape)"
   ]
  },
  {
   "cell_type": "code",
   "execution_count": 10,
   "metadata": {},
   "outputs": [
    {
     "name": "stdout",
     "output_type": "stream",
     "text": [
      "labels: tensor([9, 0, 0, 3, 0, 2, 7, 2, 5, 5])\n"
     ]
    },
    {
     "data": {
      "image/png": "[encoded data removed]",
      "text/plain": [
       "<Figure size 1080x1080 with 1 Axes>"
      ]
     },
     "metadata": {
      "needs_background": "light"
     },
     "output_type": "display_data"
    }
   ],
   "source": [
    "# To plot the images we can use toruch in-built fuction to make a nice grid\n",
    "grid = torchvision.utils.make_grid(images[:10], nrow=10)\n",
    "\n",
    "plt.figure(figsize=(15,15))\n",
    "plt.imshow(np.transpose(grid, (1,2,0)))\n",
    "\n",
    "print('labels:', labels[:10])"
   ]
  },
  {
   "cell_type": "code",
   "execution_count": 11,
   "metadata": {},
   "outputs": [],
   "source": [
    "# Network\n",
    "class Network(nn.Module):\n",
    "    def __init__(self):\n",
    "        super().__init__()\n",
    "        self.conv1 = nn.Conv2d(in_channels=1, out_channels=6, kernel_size=5)\n",
    "        self.conv2 = nn.Conv2d(in_channels=6, out_channels=12, kernel_size=5)\n",
    "        \n",
    "        self.fc1 = nn.Linear(in_features=12 * 4 * 4, out_features=120)\n",
    "        self.fc2 = nn.Linear(in_features=120, out_features=60)\n",
    "        self.out = nn.Linear(in_features=60, out_features=10)\n",
    "        \n",
    "    def forward(self, t):\n",
    "        t = self.conv1(t)\n",
    "        t = F.relu(t)\n",
    "        t = F.max_pool2d(t, kernel_size = 2, stride = 2)\n",
    "        \n",
    "        t = self.conv2(t)\n",
    "        t = F.relu(t)\n",
    "        t = F.max_pool2d(t, kernel_size = 2, stride = 2)\n",
    "        \n",
    "        t = t.flatten(start_dim=1)\n",
    "        t = self.fc1(t)\n",
    "        t = F.relu(t)\n",
    "        t = self.fc2(t)\n",
    "        t = F.relu(t)\n",
    "        t = self.out(t)\n",
    "        #t = F.softmax(t) Won't use because when we do the loss it has a built in softmax\n",
    "        return t"
   ]
  },
  {
   "cell_type": "code",
   "execution_count": 12,
   "metadata": {},
   "outputs": [
    {
     "name": "stdout",
     "output_type": "stream",
     "text": [
      "Network(\n",
      "  (conv1): Conv2d(1, 6, kernel_size=(5, 5), stride=(1, 1))\n",
      "  (conv2): Conv2d(6, 12, kernel_size=(5, 5), stride=(1, 1))\n",
      "  (fc1): Linear(in_features=192, out_features=120, bias=True)\n",
      "  (fc2): Linear(in_features=120, out_features=60, bias=True)\n",
      "  (out): Linear(in_features=60, out_features=10, bias=True)\n",
      ")\n"
     ]
    }
   ],
   "source": [
    "network = Network()\n",
    "print(network)"
   ]
  },
  {
   "cell_type": "code",
   "execution_count": 13,
   "metadata": {},
   "outputs": [
    {
     "name": "stdout",
     "output_type": "stream",
     "text": [
      "Conv2d(1, 6, kernel_size=(5, 5), stride=(1, 1))\n"
     ]
    }
   ],
   "source": [
    "# Access a single layer\n",
    "print(network.conv1)"
   ]
  },
  {
   "cell_type": "code",
   "execution_count": 14,
   "metadata": {},
   "outputs": [
    {
     "name": "stdout",
     "output_type": "stream",
     "text": [
      "Parameter containing:\n",
      "tensor([[[[ 0.0759,  0.0802,  0.0418,  0.1764,  0.0311],\n",
      "          [ 0.0554,  0.0631, -0.1547,  0.0894, -0.0157],\n",
      "          [ 0.0831,  0.1207,  0.1702,  0.1341, -0.1575],\n",
      "          [ 0.0589,  0.1435, -0.0736, -0.1265, -0.1587],\n",
      "          [-0.0589,  0.0029,  0.1909,  0.0114,  0.1146]]],\n",
      "\n",
      "\n",
      "        [[[ 0.1291, -0.0136, -0.1108, -0.1942,  0.1958],\n",
      "          [-0.1906,  0.1129, -0.0714,  0.0889, -0.1435],\n",
      "          [ 0.1412,  0.0661,  0.1334,  0.0885, -0.0547],\n",
      "          [ 0.1276, -0.1281, -0.0824,  0.1693, -0.1769],\n",
      "          [ 0.0204, -0.0923,  0.0070,  0.0125, -0.1310]]],\n",
      "\n",
      "\n",
      "        [[[ 0.1575,  0.1274, -0.0969, -0.0979, -0.1791],\n",
      "          [-0.0698,  0.0023,  0.1043,  0.0129, -0.1337],\n",
      "          [ 0.0334,  0.0590, -0.0065, -0.1501,  0.1257],\n",
      "          [-0.1655,  0.1244,  0.0716, -0.0764,  0.0488],\n",
      "          [ 0.0255,  0.0384,  0.1951,  0.0677,  0.1922]]],\n",
      "\n",
      "\n",
      "        [[[ 0.1375,  0.0946, -0.0651, -0.0631,  0.1881],\n",
      "          [-0.1094, -0.0133, -0.1736, -0.0059, -0.0337],\n",
      "          [-0.1870, -0.1608,  0.1752, -0.0482, -0.0751],\n",
      "          [-0.1071,  0.0428, -0.0608,  0.1245,  0.0028],\n",
      "          [ 0.0205,  0.0060,  0.1386, -0.0987,  0.1556]]],\n",
      "\n",
      "\n",
      "        [[[-0.1640, -0.1079,  0.1104, -0.1566,  0.1060],\n",
      "          [-0.1455, -0.0578,  0.0364, -0.1041, -0.0898],\n",
      "          [-0.1937,  0.0229, -0.1696,  0.1807, -0.0378],\n",
      "          [ 0.1849,  0.0304,  0.0103, -0.1615,  0.1281],\n",
      "          [-0.0016, -0.1673, -0.0557, -0.0491, -0.0085]]],\n",
      "\n",
      "\n",
      "        [[[-0.0217,  0.1784,  0.1442,  0.0706, -0.0801],\n",
      "          [-0.0904, -0.0163,  0.0737,  0.0240, -0.1101],\n",
      "          [-0.0385, -0.1583,  0.0698, -0.0214, -0.1159],\n",
      "          [-0.1727, -0.0794, -0.0827,  0.1011,  0.0036],\n",
      "          [ 0.1665,  0.1011, -0.1748, -0.0829, -0.1700]]]], requires_grad=True)\n",
      "torch.Size([6, 1, 5, 5])\n"
     ]
    }
   ],
   "source": [
    "print(network.conv1.weight)\n",
    "#One thing to notice about the weight tensor output is that it says parameter \n",
    "#containing at the top of the output. This is because this particular tensor is \n",
    "#a special tensor because its values or scalar components are learnable parameters of our network.\n",
    "print(network.conv1.weight.shape)\n",
    "# Number of output feature maps x number of input feature maps x kernel size x kernel size"
   ]
  },
  {
   "cell_type": "code",
   "execution_count": 15,
   "metadata": {},
   "outputs": [
    {
     "name": "stdout",
     "output_type": "stream",
     "text": [
      "torch.Size([6, 1, 5, 5])\n",
      "torch.Size([6])\n",
      "torch.Size([12, 6, 5, 5])\n",
      "torch.Size([12])\n",
      "torch.Size([120, 192])\n",
      "torch.Size([120])\n",
      "torch.Size([60, 120])\n",
      "torch.Size([60])\n",
      "torch.Size([10, 60])\n",
      "torch.Size([10])\n"
     ]
    }
   ],
   "source": [
    "# Access the parameters\n",
    "for param in network.parameters():\n",
    "    print(param.shape)"
   ]
  },
  {
   "cell_type": "markdown",
   "metadata": {},
   "source": [
    "#### Definition of a Linear class (an example) taken directly from the PyTorch class\n",
    "```python\n",
    "def __init__(self, in_features, out_features, bias=True):\n",
    "    super(Linear, self).__init__()\n",
    "    self.in_features = in_features\n",
    "    self.out_features = out_features\n",
    "    self.weight = Parameter(torch.Tensor(out_features, in_features))\n",
    "    if bias:\n",
    "        self.bias = Parameter(torch.Tensor(out_features))\n",
    "    else:\n",
    "        self.register_parameter('bias', None)\n",
    "    self.reset_parameters()\n",
    "```\n",
    "\n",
    "Instead of calling the forward() method directly, we call the object instance. After the object instance is called, the __call__() method is invoked under the hood, and the __call__() in turn invokes the forward() method. This applies to all PyTorch neural network modules, namely, networks and layers.\n",
    "\n"
   ]
  },
  {
   "cell_type": "code",
   "execution_count": 16,
   "metadata": {},
   "outputs": [
    {
     "data": {
      "text/plain": [
       "<torch.autograd.grad_mode.set_grad_enabled at 0x10b74d400>"
      ]
     },
     "execution_count": 16,
     "metadata": {},
     "output_type": "execute_result"
    }
   ],
   "source": [
    "# Disable the gradient computation and creation of the dynamic graph\n",
    "torch.set_grad_enabled(False) "
   ]
  },
  {
   "cell_type": "code",
   "execution_count": 17,
   "metadata": {},
   "outputs": [],
   "source": [
    "sample = next(iter(train_set)) \n",
    "image, label = sample \n",
    "image.shape\n",
    "\n",
    "image = image.unsqueeze(dim=0)\n",
    "prediction = network(image)"
   ]
  },
  {
   "cell_type": "code",
   "execution_count": 18,
   "metadata": {},
   "outputs": [
    {
     "name": "stdout",
     "output_type": "stream",
     "text": [
      "tensor([9, 0, 0, 3, 0, 2, 7, 2, 5, 5, 0, 9, 5, 5, 7, 9, 1, 0, 6, 4, 3, 1, 4, 8, 4, 3, 0, 2, 4, 4, 5, 3, 6, 6, 0, 8, 5,\n",
      "        2, 1, 6, 6, 7, 9, 5, 9, 2, 7, 3, 0, 3, 3, 3, 7, 2, 2, 6, 6, 8, 3, 3, 5, 0, 5, 5])\n",
      "tensor([7])\n",
      "5\n"
     ]
    }
   ],
   "source": [
    "batch = next(iter(train_loader))\n",
    "images, labels = batch\n",
    "predictions = network(images)\n",
    "print(labels)\n",
    "print(prediction.argmax(dim=1))\n",
    "print(predictions.argmax(dim=1).eq(labels).sum().item())"
   ]
  },
  {
   "cell_type": "code",
   "execution_count": 19,
   "metadata": {},
   "outputs": [
    {
     "data": {
      "text/plain": [
       "<torch.autograd.grad_mode.set_grad_enabled at 0x12fdc45f8>"
      ]
     },
     "execution_count": 19,
     "metadata": {},
     "output_type": "execute_result"
    }
   ],
   "source": [
    "# To enable training\n",
    "torch.set_grad_enabled(True)"
   ]
  },
  {
   "cell_type": "code",
   "execution_count": 20,
   "metadata": {},
   "outputs": [
    {
     "name": "stdout",
     "output_type": "stream",
     "text": [
      "epoch: 0 total_correct: 0.7972166666666667 loss: 32389.102977752686\n",
      "epoch: 1 total_correct: 0.8570333333333333 loss: 23512.378125190735\n",
      "epoch: 2 total_correct: 0.866 loss: 21771.240087509155\n",
      "epoch: 3 total_correct: 0.8717166666666667 loss: 20938.141308307648\n",
      "epoch: 4 total_correct: 0.8759833333333333 loss: 20339.56377887726\n"
     ]
    }
   ],
   "source": [
    "# Training on a single batch\n",
    "\"\"\"\n",
    "optimizer = optim.Adam(network.parameters(), lr=0.01)\n",
    "\n",
    "batch = next(iter(train_loader)) # Get Batch\n",
    "images, labels = batch\n",
    "\n",
    "preds = network(images) # Pass Batch\n",
    "loss = F.cross_entropy(preds, labels) # Calculate Loss\n",
    "\n",
    "loss.backward() # Calculate Gradients\n",
    "optimizer.step() # Update Weights\n",
    "\n",
    "print('loss1:', loss.item())\n",
    "preds = network(images)\n",
    "loss = F.cross_entropy(preds, labels)\n",
    "print('loss2:', loss.item())\n",
    "\"\"\"\n",
    "\n",
    "# Training in a loop\n",
    "network = Network()\n",
    "optimizer = optim.Adam(network.parameters(), lr=0.01)\n",
    "\n",
    "images, labels = next(iter(train_loader))\n",
    "grid = torchvision.utils.make_grid(images)\n",
    "\n",
    "tb = SummaryWriter()\n",
    "tb.add_image('images', grid)\n",
    "tb.add_graph(network, images)\n",
    "\n",
    "epochs = 5\n",
    "\n",
    "for epoch in range(epochs):\n",
    "    total_loss = 0\n",
    "    total_correct = 0\n",
    "    for batch in train_loader: # Get Batch\n",
    "        images, labels = batch \n",
    "\n",
    "        preds = network(images) # Pass Batch\n",
    "        loss = F.cross_entropy(preds, labels) # Calculate Loss\n",
    "\n",
    "        optimizer.zero_grad()\n",
    "        loss.backward() # Calculate Gradients\n",
    "        optimizer.step() # Update Weights\n",
    "\n",
    "        total_loss += loss.item() * batch_size\n",
    "        total_correct += preds.argmax(dim=1).eq(labels).sum().item()\n",
    "        \n",
    "    tb.add_scalar('Loss', total_loss, epoch)\n",
    "    tb.add_scalar('Number Correct', total_correct, epoch)\n",
    "    tb.add_scalar('Accuracy', total_correct / len(train_set), epoch)\n",
    "\n",
    "    tb.add_histogram('conv1.bias', network.conv1.bias, epoch)\n",
    "    tb.add_histogram('conv1.weight', network.conv1.weight, epoch)\n",
    "    tb.add_histogram(\n",
    "        'conv1.weight.grad'\n",
    "        ,network.conv1.weight.grad\n",
    "        ,epoch\n",
    "    )\n",
    "    \n",
    "    print(\n",
    "        \"epoch:\", epoch, \n",
    "        \"total_correct:\", total_correct/len(train_set), \n",
    "        \"loss:\", total_loss\n",
    "    )"
   ]
  },
  {
   "cell_type": "code",
   "execution_count": 21,
   "metadata": {},
   "outputs": [
    {
     "name": "stdout",
     "output_type": "stream",
     "text": [
      "55.81663113006397\n"
     ]
    }
   ],
   "source": [
    "# Get the predictions to build the confusion matrix\n",
    "# To disabl ethe gradient we can also do: with torch.no_grad():\n",
    "@torch.no_grad()\n",
    "def get_all_preds(model, loader):\n",
    "    all_preds = torch.tensor([])\n",
    "    for batch in loader:\n",
    "        images, labels = batch\n",
    "\n",
    "        preds = model(images)\n",
    "        all_preds = torch.cat(\n",
    "            (all_preds, preds)\n",
    "            ,dim=0\n",
    "        )\n",
    "    return all_preds\n",
    "\n",
    "predictions = get_all_preds(network,train_loader)\n",
    "total_correct = predictions.argmax(dim=1).eq(train_set.targets).sum().item()/len(train_loader)\n",
    "print(total_correct)"
   ]
  },
  {
   "cell_type": "code",
   "execution_count": 22,
   "metadata": {},
   "outputs": [
    {
     "name": "stdout",
     "output_type": "stream",
     "text": [
      "torch.Size([60000, 2])\n",
      "tensor([[9, 9],\n",
      "        [0, 0],\n",
      "        [0, 0],\n",
      "        ...,\n",
      "        [3, 3],\n",
      "        [0, 0],\n",
      "        [5, 5]])\n"
     ]
    }
   ],
   "source": [
    "stacked = torch.stack(\n",
    "    (\n",
    "        train_set.targets\n",
    "        ,predictions.argmax(dim=1)\n",
    "    )\n",
    "    ,dim=1\n",
    ")\n",
    "\n",
    "\n",
    "print(stacked.shape)\n",
    "print(stacked)"
   ]
  },
  {
   "cell_type": "code",
   "execution_count": 23,
   "metadata": {},
   "outputs": [
    {
     "name": "stdout",
     "output_type": "stream",
     "text": [
      "tensor([[5378,    3,   94,   70,   16,    1,  386,    0,   52,    0],\n",
      "        [  41, 5826,    4,  110,    0,    0,   10,    0,    9,    0],\n",
      "        [  55,    4, 4106,   63, 1241,    1,  496,    0,   34,    0],\n",
      "        [ 287,   17,   19, 5440,  116,    0,  114,    0,    7,    0],\n",
      "        [  15,    1,  156,  333, 5043,    1,  433,    0,   18,    0],\n",
      "        [   3,    0,    0,   11,    2, 5554,    0,  285,   66,   79],\n",
      "        [1209,    4,  460,  121,  523,    0, 3582,    0,  101,    0],\n",
      "        [   0,    0,    0,    1,    0,   12,    0, 5841,   20,  126],\n",
      "        [  22,    0,    9,   29,   35,    1,   35,    1, 5865,    3],\n",
      "        [   2,    0,    0,    5,    0,   31,    1,  233,    7, 5721]])\n",
      "[[5378    3   94   70   16    1  386    0   52    0]\n",
      " [  41 5826    4  110    0    0   10    0    9    0]\n",
      " [  55    4 4106   63 1241    1  496    0   34    0]\n",
      " [ 287   17   19 5440  116    0  114    0    7    0]\n",
      " [  15    1  156  333 5043    1  433    0   18    0]\n",
      " [   3    0    0   11    2 5554    0  285   66   79]\n",
      " [1209    4  460  121  523    0 3582    0  101    0]\n",
      " [   0    0    0    1    0   12    0 5841   20  126]\n",
      " [  22    0    9   29   35    1   35    1 5865    3]\n",
      " [   2    0    0    5    0   31    1  233    7 5721]]\n"
     ]
    }
   ],
   "source": [
    "cmt = torch.zeros(10,10, dtype=torch.int64)\n",
    "for p in stacked:\n",
    "    tl, pl = p.tolist()\n",
    "    cmt[tl, pl] = cmt[tl, pl] + 1\n",
    "print(cmt)\n",
    "# Another option\n",
    "cm = confusion_matrix(train_set.targets, predictions.argmax(dim=1))\n",
    "print(cm) # This is going to be a numpy array"
   ]
  },
  {
   "cell_type": "code",
   "execution_count": 24,
   "metadata": {},
   "outputs": [
    {
     "name": "stdout",
     "output_type": "stream",
     "text": [
      "Confusion matrix, without normalization\n",
      "[[5378    3   94   70   16    1  386    0   52    0]\n",
      " [  41 5826    4  110    0    0   10    0    9    0]\n",
      " [  55    4 4106   63 1241    1  496    0   34    0]\n",
      " [ 287   17   19 5440  116    0  114    0    7    0]\n",
      " [  15    1  156  333 5043    1  433    0   18    0]\n",
      " [   3    0    0   11    2 5554    0  285   66   79]\n",
      " [1209    4  460  121  523    0 3582    0  101    0]\n",
      " [   0    0    0    1    0   12    0 5841   20  126]\n",
      " [  22    0    9   29   35    1   35    1 5865    3]\n",
      " [   2    0    0    5    0   31    1  233    7 5721]]\n"
     ]
    },
    {
     "data": {
      "image/png": "[encoded data removed]",
      "text/plain": [
       "<Figure size 720x720 with 2 Axes>"
      ]
     },
     "metadata": {
      "needs_background": "light"
     },
     "output_type": "display_data"
    }
   ],
   "source": [
    "names = (\n",
    "    'T-shirt/top'\n",
    "    ,'Trouser'\n",
    "    ,'Pullover'\n",
    "    ,'Dress'\n",
    "    ,'Coat'\n",
    "    ,'Sandal'\n",
    "    ,'Shirt'\n",
    "    ,'Sneaker'\n",
    "    ,'Bag'\n",
    "    ,'Ankle boot'\n",
    ")\n",
    "plt.figure(figsize=(10,10))\n",
    "plot_confusion_matrix(cm, names)"
   ]
  },
  {
   "cell_type": "code",
   "execution_count": 25,
   "metadata": {},
   "outputs": [],
   "source": [
    "# Use tensorboard to visualise everything \n",
    "tb = SummaryWriter()\n",
    "\n",
    "network = Network()\n",
    "images, labels = next(iter(train_loader))\n",
    "grid = torchvision.utils.make_grid(images)\n",
    "\n",
    "tb.add_image('images', grid)\n",
    "tb.add_graph(network, images)\n",
    "tb.close()"
   ]
  },
  {
   "cell_type": "code",
   "execution_count": null,
   "metadata": {},
   "outputs": [],
   "source": []
  }
 ],
 "metadata": {
  "kernelspec": {
   "display_name": "Python 3",
   "language": "python",
   "name": "python3"
  },
  "language_info": {
   "codemirror_mode": {
    "name": "ipython",
    "version": 3
   },
   "file_extension": ".py",
   "mimetype": "text/x-python",
   "name": "python",
   "nbconvert_exporter": "python",
   "pygments_lexer": "ipython3",
   "version": "3.6.4"
  }
 },
 "nbformat": 4,
 "nbformat_minor": 2
}
